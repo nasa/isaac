{
 "cells": [
  {
   "cell_type": "markdown",
   "id": "66bc0790-ba22-4a65-8aad-51fd5d76459f",
   "metadata": {},
   "source": [
    "# OCR Label Detection"
   ]
  },
  {
   "cell_type": "markdown",
   "id": "e08c44cf-37c5-4fe5-958c-122c3fca0651",
   "metadata": {},
   "source": [
    "## Setup"
   ]
  },
  {
   "cell_type": "code",
   "execution_count": 3,
   "id": "c4b4019e-c219-48a8-bd3a-cb416e038ea8",
   "metadata": {},
   "outputs": [],
   "source": [
    "import image_str.parse_img as parser"
   ]
  },
  {
   "cell_type": "markdown",
   "id": "b5488e96-00ba-462c-83db-d2785675ed65",
   "metadata": {},
   "source": [
    "## Set Image Path"
   ]
  },
  {
   "cell_type": "code",
   "execution_count": 5,
   "id": "c81fbc60-ac15-462c-8d58-d19b76fc32b2",
   "metadata": {},
   "outputs": [],
   "source": [
    "image_path = '/path/to/image.jpg'"
   ]
  },
  {
   "cell_type": "markdown",
   "id": "83e78bc4-3f1b-4433-9e5a-99e0b3e318ad",
   "metadata": {},
   "source": [
    "## Set Result Folder"
   ]
  },
  {
   "cell_type": "code",
   "execution_count": 6,
   "id": "87e9d265-0ac6-4c71-a005-f408c3b6d02c",
   "metadata": {},
   "outputs": [],
   "source": [
    "result_folder = '/path/to/result/folder/'"
   ]
  },
  {
   "cell_type": "markdown",
   "id": "1cc2120b-9ebe-424b-9f23-3de9245b13fc",
   "metadata": {},
   "source": [
    "## Get Label Database and Image"
   ]
  },
  {
   "cell_type": "code",
   "execution_count": 7,
   "id": "587e8f00-3c19-4ce5-839f-8d21de5dfcd2",
   "metadata": {},
   "outputs": [
    {
     "ename": "FileNotFoundError",
     "evalue": "[Errno 2] No such file or directory: '/path/to/result/folder/'",
     "output_type": "error",
     "traceback": [
      "\u001b[0;31m---------------------------------------------------------------------------\u001b[0m",
      "\u001b[0;31mFileNotFoundError\u001b[0m                         Traceback (most recent call last)",
      "Cell \u001b[0;32mIn[7], line 1\u001b[0m\n\u001b[0;32m----> 1\u001b[0m database, image \u001b[38;5;241m=\u001b[39m \u001b[43mparser\u001b[49m\u001b[38;5;241;43m.\u001b[39;49m\u001b[43mdecode_image\u001b[49m\u001b[43m(\u001b[49m\u001b[43mimage_path\u001b[49m\u001b[43m,\u001b[49m\u001b[43m \u001b[49m\u001b[43mresult_folder\u001b[49m\u001b[43m)\u001b[49m\n",
      "File \u001b[0;32m~/ros_ws/isaac/src/anomaly/image_str/scripts/image_str/parse_img.py:108\u001b[0m, in \u001b[0;36mdecode_image\u001b[0;34m(image_path, result_folder, trained_model)\u001b[0m\n\u001b[1;32m    105\u001b[0m \u001b[38;5;66;03m# trained_model = 'models/craft_mlt_25k.pth'\u001b[39;00m\n\u001b[1;32m    107\u001b[0m \u001b[38;5;28;01mif\u001b[39;00m \u001b[38;5;129;01mnot\u001b[39;00m os\u001b[38;5;241m.\u001b[39mpath\u001b[38;5;241m.\u001b[39misdir(result_folder):\n\u001b[0;32m--> 108\u001b[0m     \u001b[43mos\u001b[49m\u001b[38;5;241;43m.\u001b[39;49m\u001b[43mmkdir\u001b[49m\u001b[43m(\u001b[49m\u001b[43mresult_folder\u001b[49m\u001b[43m)\u001b[49m\n\u001b[1;32m    109\u001b[0m \u001b[38;5;66;03m# ============================ Initialization ============================\u001b[39;00m\n\u001b[1;32m    110\u001b[0m \n\u001b[1;32m    111\u001b[0m \u001b[38;5;66;03m# load net\u001b[39;00m\n\u001b[1;32m    112\u001b[0m net \u001b[38;5;241m=\u001b[39m CRAFT()  \u001b[38;5;66;03m# initialize\u001b[39;00m\n",
      "\u001b[0;31mFileNotFoundError\u001b[0m: [Errno 2] No such file or directory: '/path/to/result/folder/'"
     ]
    }
   ],
   "source": [
    "database, image = parser.decode_image(image_path, result_folder)"
   ]
  },
  {
   "cell_type": "markdown",
   "id": "aae05eea-43c9-46f2-b717-27281e8c252f",
   "metadata": {},
   "source": [
    "## Find Specific Label"
   ]
  },
  {
   "cell_type": "code",
   "execution_count": 10,
   "id": "a1a6a962-36d8-4b04-bf64-bac14cbdeb90",
   "metadata": {},
   "outputs": [
    {
     "ename": "NameError",
     "evalue": "name 'parser' is not defined",
     "output_type": "error",
     "traceback": [
      "\u001b[0;31m---------------------------------------------------------------------------\u001b[0m",
      "\u001b[0;31mNameError\u001b[0m                                 Traceback (most recent call last)",
      "Cell \u001b[0;32mIn[10], line 2\u001b[0m\n\u001b[1;32m      1\u001b[0m label \u001b[38;5;241m=\u001b[39m \u001b[38;5;124m'\u001b[39m\u001b[38;5;124mCold Atom Lab\u001b[39m\u001b[38;5;124m'\u001b[39m\n\u001b[0;32m----> 2\u001b[0m \u001b[43mparser\u001b[49m\u001b[38;5;241m.\u001b[39mfind(image, database, label)\n",
      "\u001b[0;31mNameError\u001b[0m: name 'parser' is not defined"
     ]
    }
   ],
   "source": [
    "label = 'Cold Atom Lab'\n",
    "parser.find(image, database, label)"
   ]
  },
  {
   "cell_type": "code",
   "execution_count": null,
   "id": "be26cc3f-9cea-44aa-b533-048dd7cd3c91",
   "metadata": {},
   "outputs": [],
   "source": []
  }
 ],
 "metadata": {
  "kernelspec": {
   "display_name": "Python 3 (ipykernel)",
   "language": "python",
   "name": "python3"
  },
  "language_info": {
   "codemirror_mode": {
    "name": "ipython",
    "version": 3
   },
   "file_extension": ".py",
   "mimetype": "text/x-python",
   "name": "python",
   "nbconvert_exporter": "python",
   "pygments_lexer": "ipython3",
   "version": "3.8.10"
  }
 },
 "nbformat": 4,
 "nbformat_minor": 5
}
