{
 "cells": [
  {
   "cell_type": "markdown",
   "id": "0ce5e832-30dd-41bd-83da-a1d5c6bd3beb",
   "metadata": {},
   "source": [
    "Visualize data in the ISAAC user interface\n",
    "============================================"
   ]
  },
  {
   "cell_type": "markdown",
   "id": "90cec2ac-658f-4951-9171-3682fb7836d2",
   "metadata": {},
   "source": [
    "In order to visualize the generated 3D data on the ISAAC user interface (IUI)"
   ]
  },
  {
   "cell_type": "code",
   "execution_count": null,
   "id": "7eacaafc-7495-46c1-b4bd-a6f3a2121d64",
   "metadata": {},
   "outputs": [],
   "source": [
    "import rospy\n",
    "\n",
    "from std_msgs.msg import String\n",
    "\n",
    "pub = rospy.Publisher('chatter', String, queue_size=10)\n",
    "rospy.init_node('analyst_node')\n",
    "rate = rospy.Rate(10) # 10hz\n",
    "while not rospy.is_shutdown():\n",
    "    hello_str = \"hello world %s\" % rospy.get_time()\n",
    "    rospy.loginfo(hello_str)\n",
    "    pub.publish(hello_str)\n",
    "    rate.sleep()"
   ]
  },
  {
   "cell_type": "code",
   "execution_count": null,
   "id": "6471e750-3d36-4610-9bb3-755572a99fc1",
   "metadata": {},
   "outputs": [],
   "source": []
  }
 ],
 "metadata": {
  "kernelspec": {
   "display_name": "Python 3 (ipykernel)",
   "language": "python",
   "name": "python3"
  },
  "language_info": {
   "codemirror_mode": {
    "name": "ipython",
    "version": 3
   },
   "file_extension": ".py",
   "mimetype": "text/x-python",
   "name": "python",
   "nbconvert_exporter": "python",
   "pygments_lexer": "ipython3",
   "version": "3.8.10"
  }
 },
 "nbformat": 4,
 "nbformat_minor": 5
}
