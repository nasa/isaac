{
 "cells": [
  {
   "cell_type": "code",
   "execution_count": null,
   "id": "17eb67de-26e9-462a-89c1-26b3170602dd",
   "metadata": {},
   "outputs": [],
   "source": []
  },
  {
   "cell_type": "markdown",
   "id": "7f0f2d23-bc40-4ad7-9104-5f29b8261b78",
   "metadata": {},
   "source": [
    "Connect to the database"
   ]
  },
  {
   "cell_type": "code",
   "execution_count": 1,
   "id": "2cbfa654-04cf-4b03-8e9d-16160e05d606",
   "metadata": {
    "tags": []
   },
   "outputs": [
    {
     "name": "stdout",
     "output_type": "stream",
     "text": [
      "Connected to database\n"
     ]
    }
   ],
   "source": [
    "from pyArango.connection import *\n",
    "\n",
    "# Connect to the database\n",
    "conn = Connection(arangoURL=\"http://iui_arangodb:8529\", username=\"root\", password=\"isaac\")\n",
    "\n",
    "# Open the isaac database / create it if it does not exist\n",
    "if not conn.hasDatabase(\"isaac\"):\n",
    "    print(\"There is no isaac database, did you load it?\")\n",
    "else:\n",
    "    db = conn[\"isaac\"]\n",
    "    print(\"Connected to database\")"
   ]
  },
  {
   "cell_type": "markdown",
   "id": "61cf46e1-2f8b-4efa-9b89-cc73434520cf",
   "metadata": {},
   "source": [
    "Specify target info"
   ]
  },
  {
   "cell_type": "code",
   "execution_count": 5,
   "id": "f8be72b5-3731-4f45-966d-5d83c81573dc",
   "metadata": {
    "tags": []
   },
   "outputs": [],
   "source": [
    "import numpy as np\n",
    "import quaternion\n",
    "\n",
    "# Target Pose\n",
    "target_position = np.array([1.0, 0, -0.7])\n",
    "target_attitude = quaternion.from_euler_angles(0, 0, 0)  # order is roll, pitch, yaw\n",
    "\n",
    "# Parameters\n",
    "ros_topic_pose = \"/gnc/ekf\".replace(\"/\", \"_\")[1:]\n",
    "ros_topic_image = \"/hw/cam_sci/info\".replace(\"/\", \"_\")[1:]\n",
    "max_distance = 1.2\n",
    "min_distance = 0.1\n",
    "max_angle = 15\n"
   ]
  },
  {
   "cell_type": "markdown",
   "id": "bdcedcdf-c8a2-4fc8-87f0-dacc58d52b88",
   "metadata": {
    "tags": []
   },
   "source": [
    "Query the nearby points and get image and pose pair"
   ]
  },
  {
   "cell_type": "code",
   "execution_count": 6,
   "id": "d8695a18-dfeb-4c08-8353-891023d167ed",
   "metadata": {
    "tags": []
   },
   "outputs": [
    {
     "name": "stdout",
     "output_type": "stream",
     "text": [
      "Found 8 results\n"
     ]
    }
   ],
   "source": [
    "import matplotlib.pyplot as plt\n",
    "\n",
    "# Query pose topic for the closest timestamps to the image topic & only get nearby pairs\n",
    "query = (\n",
    "    \"FOR doc_image IN \" + ros_topic_image +\n",
    "    \"  LET closest_pose = (\" +\n",
    "    \"    FOR doc_pose IN \" + ros_topic_pose +\n",
    "    \"      SORT ABS((doc_pose.header.stamp.secs + doc_pose.header.stamp.nsecs * 0.000000001) - (doc_image.header.stamp.secs + doc_image.header.stamp.nsecs * 0.000000001))\" +\n",
    "    \"      LIMIT 1\" +\n",
    "    \"      RETURN doc_pose\" +\n",
    "    \"    )\" +\n",
    "    \"  FILTER closest_pose[0].pose.position.x >= \" + str(target_position[0] - max_distance) +\n",
    "    \"    AND closest_pose[0].pose.position.x <= \" + str(target_position[0] + max_distance) +\n",
    "    \"    AND closest_pose[0].pose.position.y >= \" + str(target_position[1] - max_distance) +\n",
    "    \"    AND closest_pose[0].pose.position.y <= \" + str(target_position[1] + max_distance) +\n",
    "    \"    AND closest_pose[0].pose.position.z >= \" + str(target_position[2] - max_distance) +\n",
    "    \"    AND closest_pose[0].pose.position.z <= \" + str(target_position[2] + max_distance) +\n",
    "    \"\\n\" +\n",
    "    \"  RETURN {doc_image, closest_pose: closest_pose[0]}\"\n",
    ")\n",
    "\n",
    "result = list(db.AQLQuery(query, rawResults = True))\n",
    "print(\"Found \" + str(len(result)) + \" results\")"
   ]
  },
  {
   "cell_type": "markdown",
   "id": "32e6724f-87cd-4c7e-bdfd-bf7ec586abeb",
   "metadata": {
    "tags": []
   },
   "source": [
    "Eliminate points based on pointing angle"
   ]
  },
  {
   "cell_type": "code",
   "execution_count": 7,
   "id": "f460bfad-cc96-4171-8d98-b7bb593755b6",
   "metadata": {},
   "outputs": [
    {
     "name": "stdout",
     "output_type": "stream",
     "text": [
      "Keeping 3 results\n"
     ]
    }
   ],
   "source": [
    "# Perform the quaternion rotation\n",
    "rotated_vector2 = target_attitude * np.quaternion(0, 1.0, 0.0, 0.0) * target_attitude.conjugate()\n",
    "\n",
    "# Extract the rotated vector\n",
    "vector2 = np.array([rotated_vector2.x,\n",
    "                           rotated_vector2.y,\n",
    "                           rotated_vector2.z])\n",
    "\n",
    "for i in range(len(result)-1, -1, -1):\n",
    "    # Check if time difference between the image and the pose is too far apart\n",
    "    \n",
    "    # Calculate the first vector from the difference between the points\n",
    "    robot_position = np.array([result[i][\"closest_pose\"][\"pose\"][\"position\"][\"x\"], result[i][\"closest_pose\"][\"pose\"][\"position\"][\"y\"], result[i][\"closest_pose\"][\"pose\"][\"position\"][\"z\"]])\n",
    "    vector1 = target_position - robot_position\n",
    "\n",
    "    # Calculate the angle between the two vectors\n",
    "    angle = np.arccos(np.dot(vector1, vector2) / (np.linalg.norm(vector1) * np.linalg.norm(vector2)))\n",
    "\n",
    "    # Convert angle to degrees\n",
    "    angle_degrees = np.degrees(angle)\n",
    "    \n",
    "    if (angle_degrees > max_angle):\n",
    "        del result[i]\n",
    "        continue\n",
    "print(\"Keeping \" + str(len(result)) + \" results\")"
   ]
  },
  {
   "cell_type": "markdown",
   "id": "b0e9f4f4-4939-4151-af8d-676680740cac",
   "metadata": {},
   "source": [
    "Eliminate points based on visual field"
   ]
  },
  {
   "cell_type": "code",
   "execution_count": 1,
   "id": "ca1e4d24-7af0-44c6-96ba-c62f3d202052",
   "metadata": {},
   "outputs": [],
   "source": [
    "result=[[{\"seq\": 79, \"stamp\": {\"secs\": 1681929421, \"nsecs\": 786000000}, \"frame_id\": \"sci_camera\"}, -0.11368339818811746, 0.0059495347033807575, -0.6698604721524104, -0.004609626194393445, 0.012488907243675277, -0.002715207887466752, 0.9999076988344149], [{\"seq\": 81, \"stamp\": {\"secs\": 1681929475, \"nsecs\": 818000000}, \"frame_id\": \"sci_camera\"}, 0.47768391745005323, 0.10760590521703223, -0.6750663758698559, 0.001985999796847459, 0.010674024517070007, -0.7089004391845898, 0.7052249912824284], [{\"seq\": 82, \"stamp\": {\"secs\": 1681929495, \"nsecs\": 953000000}, \"frame_id\": \"sci_camera\"}, 0.023564562330097915, 0.10387221553160504, -0.6764899257783996, 0.003240397761732685, 0.009012778921762468, -0.7122093290978422, 0.7019018030924572]]"
   ]
  },
  {
   "cell_type": "code",
   "execution_count": null,
   "id": "c521f8f9-654c-4890-b147-00e8d132a4be",
   "metadata": {},
   "outputs": [],
   "source": []
  },
  {
   "cell_type": "code",
   "execution_count": 2,
   "id": "421f671b-a899-4c8b-9291-b083028f0b1a",
   "metadata": {},
   "outputs": [
    {
     "name": "stdout",
     "output_type": "stream",
     "text": [
      "[rospack] Error: package 'analyst_notebook' not found\n",
      "\n"
     ]
    }
   ],
   "source": [
    "# Get the \n",
    "import subprocess\n",
    "import json\n",
    "\n",
    "# Get nested dictionary key values\n",
    "def get_nested_value(data, keys):\n",
    "    value = data\n",
    "    for key in keys:\n",
    "        if key in value:\n",
    "            value = value[key]\n",
    "        else:\n",
    "            return None\n",
    "    return value\n",
    " \n",
    "selected_keys = [\n",
    "    \"doc_image/header\",\n",
    "    \"closest_pose/pose/position/x\",\n",
    "    \"closest_pose/pose/position/y\",\n",
    "    \"closest_pose/pose/position/z\",\n",
    "    \"closest_pose/pose/orientation/x\",\n",
    "    \"closest_pose/pose/orientation/y\",\n",
    "    \"closest_pose/pose/orientation/z\",\n",
    "    \"closest_pose/pose/orientation/w\"\n",
    "]\n",
    "\n",
    "selected_data = [\n",
    "    [\n",
    "        item[key] if \"/\" not in key else get_nested_value(item, key.split(\"/\"))\n",
    "        for key in selected_keys\n",
    "    ]\n",
    "    for item in result\n",
    "]\n",
    "\n",
    "# Convert the input list to a JSON string\n",
    "input_json = json.dumps(selected_data)\n",
    "cmd = [\"rosrun\", \"analyst_notebook\", \"query_view_points\", input_json]\n",
    "\n",
    "# Execute the C++ script and pass the input JSON as a command-line argument\n",
    "stdout = \"\"\n",
    "stderr = \"\"\n",
    "popen = subprocess.Popen(\n",
    "    cmd, stdout=subprocess.PIPE, stderr=subprocess.STDOUT, universal_newlines=True\n",
    ")\n",
    "for stdout_line in iter(popen.stdout.readline, \"\"):\n",
    "    stdout += stdout_line\n",
    "\n",
    "popen.stdout.close()\n",
    "print(stdout)\n",
    "\n",
    "# output, _ = process.communicate()\n",
    "\n",
    "# # Parse the output JSON and convert it back to a list\n",
    "# output_list = json.loads(output.decode())\n",
    "\n",
    "\n",
    "# Delete data from initial list\n"
   ]
  },
  {
   "cell_type": "code",
   "execution_count": 9,
   "id": "c4f7a4e0-1ce6-4d23-a22f-4506bb47d781",
   "metadata": {},
   "outputs": [
    {
     "name": "stdout",
     "output_type": "stream",
     "text": [
      "[[{\"seq\": 79, \"stamp\": {\"secs\": 1681929421, \"nsecs\": 786000000}, \"frame_id\": \"sci_camera\"}, -0.11368339818811746, 0.0059495347033807575, -0.6698604721524104, -0.004609626194393445, 0.012488907243675277, -0.002715207887466752, 0.9999076988344149], [{\"seq\": 81, \"stamp\": {\"secs\": 1681929475, \"nsecs\": 818000000}, \"frame_id\": \"sci_camera\"}, 0.47768391745005323, 0.10760590521703223, -0.6750663758698559, 0.001985999796847459, 0.010674024517070007, -0.7089004391845898, 0.7052249912824284], [{\"seq\": 82, \"stamp\": {\"secs\": 1681929495, \"nsecs\": 953000000}, \"frame_id\": \"sci_camera\"}, 0.023564562330097915, 0.10387221553160504, -0.6764899257783996, 0.003240397761732685, 0.009012778921762468, -0.7122093290978422, 0.7019018030924572]]\n"
     ]
    }
   ],
   "source": [
    "\n",
    "print(input_json)\n",
    "\n"
   ]
  },
  {
   "cell_type": "markdown",
   "id": "ea071bb2-4647-4164-82c7-1df419a294b6",
   "metadata": {},
   "source": [
    "Find remaining images and plot them"
   ]
  },
  {
   "cell_type": "code",
   "execution_count": null,
   "id": "403b16ef-4a72-4875-8985-52222fce0aae",
   "metadata": {},
   "outputs": [],
   "source": []
  },
  {
   "cell_type": "code",
   "execution_count": null,
   "id": "7b56b619-3637-4c42-9ae5-d19eb3b24bba",
   "metadata": {},
   "outputs": [],
   "source": []
  }
 ],
 "metadata": {
  "kernelspec": {
   "display_name": "Python 3 (ipykernel)",
   "language": "python",
   "name": "python3"
  },
  "language_info": {
   "codemirror_mode": {
    "name": "ipython",
    "version": 3
   },
   "file_extension": ".py",
   "mimetype": "text/x-python",
   "name": "python",
   "nbconvert_exporter": "python",
   "pygments_lexer": "ipython3",
   "version": "3.8.10"
  }
 },
 "nbformat": 4,
 "nbformat_minor": 5
}
