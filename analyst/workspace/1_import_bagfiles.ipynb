{
 "cells": [
  {
   "cell_type": "markdown",
   "metadata": {
    "tags": []
   },
   "source": [
    "# Import bagfiles to Database for Analysis\n",
    "\n",
    "The database used is ArangoDB. If you followed the Analyst notebook startup procedure [here](https://nasa.github.io/isaac/html/index.html), the local database should already be hosted in http://localhost:8529.\n",
    "\n",
    "Go ahead open the link at take a look! The username is `root` and the password `isaac`.\n",
    "\n",
    "To connect to the database:"
   ]
  },
  {
   "cell_type": "code",
   "execution_count": null,
   "metadata": {},
   "outputs": [],
   "source": [
    "from pyArango.connection import *\n",
    "\n",
    "# Connect to the database\n",
    "conn = Connection(arangoURL=\"http://iui_arangodb:8529\", username=\"root\", password=\"isaac\")\n",
    "\n",
    "# Open the isaac database / create it if it does not exist\n",
    "if not conn.hasDatabase(\"isaac\"):\n",
    "    conn.createDatabase(name=\"isaac\")\n",
    "db = conn[\"isaac\"]\n",
    "\n",
    "# Create a collection\n",
    "if not db.hasCollection(\"analyst\"):\n",
    "    db.createCollection(name=\"analyst\")\n",
    "    \n",
    "print(\"Connected to database!\")"
   ]
  },
  {
   "cell_type": "markdown",
   "metadata": {},
   "source": [
    "The next step is to select the bagfile to import"
   ]
  },
  {
   "cell_type": "code",
   "execution_count": null,
   "metadata": {},
   "outputs": [],
   "source": [
    "from scripts.load_bag_database import LoadBagDatabase\n",
    "\n",
    "\n",
    "path=\"/home/analyst/data/bags/\"\n",
    "\n",
    "LoadBagDatabase(db, path, \"/gnc/ekf\")"
   ]
  },
  {
   "cell_type": "code",
   "execution_count": null,
   "metadata": {},
   "outputs": [],
   "source": []
  },
  {
   "cell_type": "code",
   "execution_count": null,
   "metadata": {},
   "outputs": [],
   "source": []
  },
  {
   "cell_type": "code",
   "execution_count": null,
   "metadata": {},
   "outputs": [],
   "source": []
  }
 ],
 "metadata": {
  "kernelspec": {
   "display_name": "Python 3 (ipykernel)",
   "language": "python",
   "name": "python3"
  },
  "language_info": {
   "codemirror_mode": {
    "name": "ipython",
    "version": 3
   },
   "file_extension": ".py",
   "mimetype": "text/x-python",
   "name": "python",
   "nbconvert_exporter": "python",
   "pygments_lexer": "ipython3",
   "version": "3.8.10"
  }
 },
 "nbformat": 4,
 "nbformat_minor": 4
}
