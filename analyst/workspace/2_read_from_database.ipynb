{
 "cells": [
  {
   "cell_type": "markdown",
   "id": "5636fde2-c963-48b5-a883-a7d520a6084e",
   "metadata": {},
   "source": [
    "# Read Various Data Types from Database"
   ]
  },
  {
   "cell_type": "code",
   "execution_count": null,
   "id": "23334b94-b585-4319-a75b-eeacece22852",
   "metadata": {},
   "outputs": [],
   "source": []
  },
  {
   "cell_type": "code",
   "execution_count": null,
   "id": "9288a825-64f6-4177-9f65-9bff1ea74210",
   "metadata": {},
   "outputs": [],
   "source": []
  }
 ],
 "metadata": {
  "kernelspec": {
   "display_name": "Python 3 (ipykernel)",
   "language": "python",
   "name": "python3"
  },
  "language_info": {
   "codemirror_mode": {
    "name": "ipython",
    "version": 3
   },
   "file_extension": ".py",
   "mimetype": "text/x-python",
   "name": "python",
   "nbconvert_exporter": "python",
   "pygments_lexer": "ipython3",
   "version": "3.8.10"
  }
 },
 "nbformat": 4,
 "nbformat_minor": 5
}
