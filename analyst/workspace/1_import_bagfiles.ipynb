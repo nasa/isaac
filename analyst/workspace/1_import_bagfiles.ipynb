{
 "cells": [
  {
   "cell_type": "markdown",
   "metadata": {
    "tags": []
   },
   "source": [
    "# Import bagfiles to Database for Analysis\n",
    "\n",
    "The database used is ArangoDB. If you followed the Analyst notebook startup procedure [here](https://nasa.github.io/isaac/html/index.html), the local database should already be hosted in http://localhost:8529.\n",
    "\n",
    "Go ahead open the link at take a look! The username is `root` and the password `isaac`.\n",
    "\n",
    "To connect to the database:"
   ]
  },
  {
   "cell_type": "code",
   "execution_count": 1,
   "metadata": {
    "tags": []
   },
   "outputs": [
    {
     "name": "stdout",
     "output_type": "stream",
     "text": [
      "Connected to database!\n"
     ]
    }
   ],
   "source": [
    "from pyArango.connection import *\n",
    "\n",
    "# Connect to the database\n",
    "conn = Connection(arangoURL=\"http://iui_arangodb:8529\", username=\"root\", password=\"isaac\")\n",
    "\n",
    "# Open the isaac database / create it if it does not exist\n",
    "if not conn.hasDatabase(\"isaac\"):\n",
    "    conn.createDatabase(name=\"isaac\")\n",
    "    \n",
    "db = conn[\"isaac\"]    \n",
    "print(\"Connected to database!\")"
   ]
  },
  {
   "cell_type": "markdown",
   "metadata": {},
   "source": [
    "The next step is to select the bagfiles directory to import.\n",
    "This script will go through all the bags in the folder and import the topics to the database."
   ]
  },
  {
   "cell_type": "code",
   "execution_count": null,
   "metadata": {
    "tags": []
   },
   "outputs": [],
   "source": [
    "from scripts.load_bag_database import LoadBagDatabase\n",
    "path=\"data/bags/\"\n",
    "topics=[]\n",
    "LoadBagDatabase(path, topics)"
   ]
  },
  {
   "cell_type": "code",
   "execution_count": null,
   "metadata": {},
   "outputs": [],
   "source": []
  }
 ],
 "metadata": {
  "kernelspec": {
   "display_name": "Python 3 (ipykernel)",
   "language": "python",
   "name": "python3"
  },
  "language_info": {
   "codemirror_mode": {
    "name": "ipython",
    "version": 3
   },
   "file_extension": ".py",
   "mimetype": "text/x-python",
   "name": "python",
   "nbconvert_exporter": "python",
   "pygments_lexer": "ipython3",
   "version": "3.8.10"
  }
 },
 "nbformat": 4,
 "nbformat_minor": 4
}
