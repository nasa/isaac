{
 "cells": [
  {
   "cell_type": "markdown",
   "metadata": {
    "tags": []
   },
   "source": [
    "# Import bagfiles to Database for Analysis\n",
    "\n",
    "The database used is ArangoDB. If you followed the Analyst notebook startup procedure [here](https://nasa.github.io/isaac/html/index.html), the local database should already be hosted in http://localhost:8529.\n",
    "\n",
    "Go ahead open the link at take a look! The username is `root` and the password `isaac`."
   ]
  },
  {
   "cell_type": "markdown",
   "metadata": {},
   "source": [
    "The next step is to select the bagfiles directory to import.\n",
    "This script will go through all the bags in the folder and import the topics to the database."
   ]
  },
  {
   "cell_type": "code",
   "execution_count": 1,
   "metadata": {
    "scrolled": true,
    "tags": []
   },
   "outputs": [
    {
     "name": "stdout",
     "output_type": "stream",
     "text": [
      "['data/bags/2024-03-21_tim/bsharp/Fixed/20240321_2238_survey_test_profile_0.fix_all.bag', 'data/bags/2024-03-21_tim/bsharp/Fixed/20240321_2232_survey_test_0.fix_all.bag', 'data/bags/2024-03-21_tim/bsharp/Fixed/20240321_2254_survey_bsharp7_0.fix_all.bag', 'data/bags/2024-03-21_tim/bsharp/Fixed/20240321_2250_survey_bsharp5_0.fix_all.bag', 'data/bags/2024-03-21_tim/bsharp/Fixed/20240321_2245_survey_bsharp3_0.fix_all.bag', 'data/bags/2024-03-21_tim/bsharp/Fixed/20240321_0058_survey_test_0.fix_all.bag', 'data/bags/2024-03-21_tim/bsharp/Fixed/20240321_2254_survey_bsharp7_1.fix_all.bag', 'data/bags/2024-03-21_tim/bsharp/Fixed/20240321_2236_survey_test_0.fix_all.bag', 'data/bags/2024-03-21_tim/bsharp/Fixed/20240321_2248_survey_bsharp3_0.fix_all.bag', 'data/bags/2024-03-21_tim/bsharp/Fixed/20240321_2254_survey_bsharp7_.merged.bag', 'data/bags/2024-03-21_tim/bsharp/Fixed/20240321_2243_survey_bsharp2_0.fix_all.bag', 'data/bags/2024-03-21_tim/bsharp/Fixed/20240321_2252_survey_bsharp6_0.fix_all.bag', 'data/bags/2024-03-21_tim/bsharp/Fixed/20240321_2241_survey_bsharp1_0.fix_all.bag', 'data/bags/2024-03-21_tim/bsharp/Fixed/20240321_2249_survey_bsharp4_0.fix_all.bag']\n",
      "Adding collection beh_inspection_status\n",
      "Adding collection gnc_ekf\n",
      "Adding collection graph_loc_state\n",
      "Adding collection hw_cam_nav_image_color\n",
      "Adding collection hw_cam_nav_bayer\n",
      "Adding collection hw_cam_nav_ctrl\n",
      "Adding collection hw_depth_haz_extended\n",
      "Adding collection hw_depth_haz_extended_amplitude_int\n",
      "Adding collection hw_depth_haz_points\n",
      "Adding collection hw_imu\n",
      "Adding collection hw_wifi\n",
      "Adding collection loc_ml_features\n",
      "Adding collection loc_of_features\n",
      "Adding collection loc_pose\n",
      "Adding collection mgt_img_sampler_nav_cam_image_record\n",
      "Adding collection mgt_sys_monitor_time_sync\n",
      "Adding collection mob_flight_mode\n",
      "Adding collection sparse_mapping_pose\n",
      "Adding collection tf\n",
      "Adding collection hw_cam_sci_info\n",
      "Reading bag file  data/bags/2024-03-21_tim/bsharp/Fixed/20240321_2238_survey_test_profile_0.fix_all.bag\n",
      "Reading bag file Reading bag file   data/bags/2024-03-21_tim/bsharp/Fixed/20240321_2236_survey_test_0.fix_all.bagdata/bags/2024-03-21_tim/bsharp/Fixed/20240321_2232_survey_test_0.fix_all.bag\n",
      "\n",
      "Reading bag file  data/bags/2024-03-21_tim/bsharp/Fixed/20240321_0058_survey_test_0.fix_all.bag\n",
      "Reading bag file  data/bags/2024-03-21_tim/bsharp/Fixed/20240321_2254_survey_bsharp7_1.fix_all.bag\n",
      "Reading bag file  data/bags/2024-03-21_tim/bsharp/Fixed/20240321_2249_survey_bsharp4_0.fix_all.bag\n",
      "Reading bag file  data/bags/2024-03-21_tim/bsharp/Fixed/20240321_2248_survey_bsharp3_0.fix_all.bag\n",
      "Reading bag file  data/bags/2024-03-21_tim/bsharp/Fixed/20240321_2252_survey_bsharp6_0.fix_all.bag\n",
      "Reading bag file Reading bag file  data/bags/2024-03-21_tim/bsharp/Fixed/20240321_2250_survey_bsharp5_0.fix_all.bag\n",
      " Reading bag file data/bags/2024-03-21_tim/bsharp/Fixed/20240321_2243_survey_bsharp2_0.fix_all.bag data/bags/2024-03-21_tim/bsharp/Fixed/20240321_2245_survey_bsharp3_0.fix_all.bag\n",
      "\n",
      "Reading bag file  data/bags/2024-03-21_tim/bsharp/Fixed/20240321_2254_survey_bsharp7_0.fix_all.bag\n",
      "Reading bag file  data/bags/2024-03-21_tim/bsharp/Fixed/20240321_2241_survey_bsharp1_0.fix_all.bag\n",
      "Reading bag file  data/bags/2024-03-21_tim/bsharp/Fixed/20240321_2254_survey_bsharp7_.merged.bag\n",
      "Reading  1000 /Reading   1724 1000   9810   1000 / 4542   1000 / 16658   1000 / 1325   1000 / 27147   1000 / 4251   1000 / 23069   1000 / 24293   1000 / 21651   1000 / 36957   1000 / 25478   1000 / 20036   1000 / 24713  \n",
      "Topics found in data/bags/2024-03-21_tim/bsharp/Fixed/20240321_2238_survey_test_profile_0.fix_all.bag:\n",
      "{'/hw/depth_haz/points': 13, '/hw/depth_haz/extended/amplitude_int': 13, '/gnc/ekf': 298, '/hw/imu': 363, '/loc/pose': 278, '/loc/of/features': 24, '/graph_loc/state': 14, '/mob/flight_mode': 1, '/hw/wifi': 26, '/hw/depth_haz/extended': 13, '/mgt/img_sampler/nav_cam/image_record': 13, '/hw/cam_nav/image_color': 13, '/hw/cam_nav_bayer': 13, '/beh/inspection/status': 13, '/tf': 218, '/hw/cam_nav_ctrl': 3, '/loc/ml/features': 3, '/sparse_mapping/pose': 2, '/mgt/sys_monitor/time_sync': 4}\n",
      "\n",
      "Topics found in data/bags/2024-03-21_tim/bsharp/Fixed/20240321_2236_survey_test_0.fix_all.bag:\n",
      "{'/hw/depth_haz/points': 18, '/hw/depth_haz/extended/amplitude_int': 18, '/gnc/ekf': 372, '/hw/imu': 438, '/graph_loc/state': 19, '/loc/of/features': 32, '/loc/pose': 355, '/mob/flight_mode': 1, '/loc/ml/features': 4, '/sparse_mapping/pose': 4, '/mgt/img_sampler/nav_cam/image_record': 18, '/hw/cam_nav/image_color': 18, '/hw/cam_nav_bayer': 18, '/hw/wifi': 37, '/hw/depth_haz/extended': 18, '/beh/inspection/status': 18, '/tf': 325, '/mgt/sys_monitor/time_sync': 7, '/hw/cam_nav_ctrl': 4}\n",
      "Reading  2000 / 4542   2000 / 16658   2000 / 21651   2000 / 27147   2000 / 9810   2000 / 4251   2000 / 23069   2000 / 20036   2000 / 24293   2000 / 25478   2000 / 36957   2000 / 24713   3000 / 16658   3000 / 27147   3000 /Reading   4542 3000  /21651   3000 / 4251   3000 / 9810   3000 / 23069   3000 / 24293   3000 / 20036   3000 / 36957   3000 / 25478   3000 / 24713   4000 / 21651   4000 / 27147   4000 / 16658   4000 / 23069   4000 / 9810   4000 / 4251   4000 / 4542   4000 / 24293   4000 / 20036   4000 / 25478   4000 / 36957   4000 / 24713  \n",
      "Topics found in data/bags/2024-03-21_tim/bsharp/Fixed/20240321_2232_survey_test_0.fix_all.bag:\n",
      "{'/gnc/ekf': 912, '/hw/imu': 1153, '/loc/pose': 898, '/loc/of/features': 82, '/graph_loc/state': 43, '/mob/flight_mode': 1, '/loc/ml/features': 11, '/hw/cam_sci_info': 22, '/sparse_mapping/pose': 11, '/hw/cam_nav_ctrl': 10, '/hw/wifi': 97, '/mgt/img_sampler/nav_cam/image_record': 48, '/beh/inspection/status': 49, '/hw/depth_haz/points': 47, '/mgt/sys_monitor/time_sync': 19, '/tf': 848}\n",
      "\n",
      "Topics found in data/bags/2024-03-21_tim/bsharp/Fixed/20240321_0058_survey_test_0.fix_all.bag:\n",
      "{'/gnc/ekf': 941, '/loc/pose': 925, '/hw/imu': 1159, '/graph_loc/state': 44, '/loc/ml/features': 12, '/loc/of/features': 88, '/mob/flight_mode': 1, '/sparse_mapping/pose': 12, '/hw/wifi': 97, '/hw/depth_haz/points': 48, '/hw/depth_haz/extended/amplitude_int': 48, '/mgt/img_sampler/nav_cam/image_record': 47, '/hw/cam_nav/image_color': 47, '/hw/cam_nav_bayer': 47, '/beh/inspection/status': 49, '/hw/depth_haz/extended': 48, '/tf': 881, '/mgt/sys_monitor/time_sync': 19, '/hw/cam_sci_info': 19, '/hw/cam_nav_ctrl': 10}\n",
      "Reading  5000 / 16658   5000 / 23069   5000 / 27147   5000 / 21651   5000 / 9810   5000 / 20036   5000 /Reading   369575000   /24713   5000 / 24293   5000 / 25478   6000 / 27147   6000 / 23069   6000 / 16658   6000 / 9810   6000 / 21651   6000 / 24713   6000 / 24293   6000 / 36957   6000 / 20036   6000 / 25478   7000 / 27147   7000 / 23069   7000 / 16658   7000 / 9810   7000 / 21651   7000 / 24713   7000 / 20036   7000 / 24293   7000 / 36957   7000 / 25478   8000 / 27147   8000 / 16658   8000 / 23069   8000 / 24713   8000 / 9810   8000 / 20036   8000 / 21651   8000 / 36957   8000 / 24293   8000 / 25478   9000 / 23069   9000 / 27147   9000 / 16658   9000 / 24713   9000 / 9810   9000 / 20036   9000 / 21651   9000 / 36957   9000 / 24293   9000 / 25478  \n",
      "Topics found in data/bags/2024-03-21_tim/bsharp/Fixed/20240321_2254_survey_bsharp7_1.fix_all.bag:\n",
      "{'/tf': 1967, '/gnc/ekf': 1935, '/loc/pose': 1935, '/hw/imu': 2526, '/hw/depth_haz/points': 110, '/hw/depth_haz/extended/amplitude_int': 110, '/loc/of/features': 179, '/hw/wifi': 220, '/hw/depth_haz/extended': 110, '/graph_loc/state': 180, '/beh/inspection/status': 110, '/hw/cam_sci_info': 42, '/mgt/img_sampler/nav_cam/image_record': 86, '/hw/cam_nav/image_color': 86, '/hw/cam_nav_bayer': 86, '/loc/ml/features': 31, '/sparse_mapping/pose': 31, '/mgt/sys_monitor/time_sync': 44, '/hw/cam_nav_ctrl': 22}\n",
      "Reading  10000 / 23069   10000 / 27147   10000 / 16658   10000 / 24713   10000 / 20036   10000 / 36957   10000 / 21651   10000 / 25478   10000 / 24293   11000 / 27147   11000 / 23069   11000 / 24713   11000 / 20036   11000 / 36957   Reading 11000  /11000  /16658      11000 / 25478   11000 / 24293   12000 / 23069   12000 / 24713   12000 / 27147   12000 / 36957   12000 / 20036   12000 / 16658   12000 / 21651   12000 / 25478   12000 / 24293   13000 / 23069   13000 / 24713   13000 / 27147   13000 / 16658   13000 / 21651   13000 / 20036   13000 / 36957   13000 / 25478   13000 / 24293   14000 / 23069   14000 / 24713   14000 / 16658   14000 / 21651   14000 / 27147   14000 / 20036   14000 / 36957 Reading    / 25478   14000 / 24293   15000 / 23069   15000 / 24713   15000 / 21651   15000 / 16658   15000 / 36957   15000 / 25478   15000 / 27147   15000 / 20036   15000 / 24293   16000 / 24713   16000 / 23069   16000 / 21651   16000 / 16658   16000 / 25478   16000 / 20036   16000 / 36957   16000 / 24293   16000 / 27147  \n",
      "Topics found in data/bags/2024-03-21_tim/bsharp/Fixed/20240321_2249_survey_bsharp4_0.fix_all.bag:\n",
      "{'/hw/depth_haz/points': 182, '/hw/depth_haz/extended/amplitude_int': 182, '/gnc/ekf': 3353, '/hw/imu': 4321, '/loc/pose': 3341, '/graph_loc/state': 199, '/mob/flight_mode': 1, '/loc/of/features': 306, '/hw/wifi': 366, '/loc/ml/features': 52, '/hw/depth_haz/extended': 182, '/mgt/img_sampler/nav_cam/image_record': 165, '/hw/cam_nav/image_color': 165, '/hw/cam_nav_bayer': 165, '/beh/inspection/status': 183, '/sparse_mapping/pose': 52, '/mgt/sys_monitor/time_sync': 73, '/tf': 3334, '/hw/cam_nav_ctrl': 36}\n",
      "Reading  17000 / 24713   17000 / 23069   17000 / 25478   17000Reading   /17000  /21651  24293   17000 / 36957   17000 / 20036   17000 / 27147   18000 / 24713   18000 / 23069   18000 / 25478   18000 / 21651   18000 / 24293   18000 / 36957   18000 / 20036   18000 / 27147   19000 / 24713   19000 / 23069   19000 / 25478   19000 / 24293   19000 /Reading   3695719000   /21651   19000 / 20036   19000 / 27147   20000 / 24713   20000 / 23069   20000 / 25478   20000 / 36957   20000 / 21651   20000 / 20036   20000 / 24293  \n",
      "Topics found in data/bags/2024-03-21_tim/bsharp/Fixed/20240321_2250_survey_bsharp5_0.fix_all.bag:\n",
      "{'/hw/depth_haz/points': 221, '/hw/depth_haz/extended/amplitude_int': 221, '/gnc/ekf': 3965, '/hw/imu': 5155, '/loc/pose': 3949, '/graph_loc/state': 399, '/mob/flight_mode': 1, '/loc/of/features': 348, '/loc/ml/features': 56, '/sparse_mapping/pose': 52, '/hw/wifi': 445, '/mgt/img_sampler/nav_cam/image_record': 201, '/hw/cam_nav/image_color': 201, '/hw/cam_nav_bayer': 201, '/hw/cam_sci_info': 92, '/beh/inspection/status': 222, '/tf': 3953, '/hw/depth_haz/extended': 221, '/mgt/sys_monitor/time_sync': 89, '/hw/cam_nav_ctrl': 44}\n",
      "Reading  20000 / 27147   21000 / 24713   21000 / 25478   21000 / 23069   21000 / 36957   21000 / 27147   21000 / 24293   21000 / 21651  \n",
      "Topics found in data/bags/2024-03-21_tim/bsharp/Fixed/20240321_2245_survey_bsharp3_0.fix_all.bag:\n",
      "{'/hw/depth_haz/points': 238, '/hw/depth_haz/extended/amplitude_int': 238, '/gnc/ekf': 4293, '/hw/imu': 5565, '/loc/pose': 4276, '/graph_loc/state': 369, '/loc/of/features': 382, '/mob/flight_mode': 1, '/loc/ml/features': 66, '/sparse_mapping/pose': 66, '/hw/wifi': 482, '/mgt/img_sampler/nav_cam/image_record': 225, '/hw/cam_nav/image_color': 225, '/hw/cam_nav_bayer': 225, '/hw/depth_haz/extended': 238, '/beh/inspection/status': 241, '/tf': 4282, '/mgt/sys_monitor/time_sync': 96, '/hw/cam_sci_info': 95, '/hw/cam_nav_ctrl': 48}\n",
      "Reading  22000 / 24713   22000 / 25478   22000 / 23069   22000 / 36957   22000 / 27147   22000 / 24293   23000 / 24713   23000 / 25478   23000 / 23069   23000 / 36957   23000 / 27147  \n",
      "Topics found in data/bags/2024-03-21_tim/bsharp/Fixed/20240321_2241_survey_bsharp1_0.fix_all.bag:\n",
      "{'/hw/depth_haz/points': 254, '/hw/depth_haz/extended/amplitude_int': 254, '/gnc/ekf': 4589, '/hw/imu': 5933, '/loc/pose': 4574, '/loc/of/features': 389, '/mob/flight_mode': 1, '/graph_loc/state': 367, '/loc/ml/features': 68, '/sparse_mapping/pose': 68, '/hw/wifi': 511, '/hw/cam_sci_info': 105, '/mgt/img_sampler/nav_cam/image_record': 242, '/hw/cam_nav/image_color': 242, '/hw/cam_nav_bayer': 242, '/hw/depth_haz/extended': 254, '/hw/cam_nav_ctrl': 51, '/beh/inspection/status': 255, '/tf': 4569, '/mgt/sys_monitor/time_sync': 101}\n",
      "Reading  23000 / 24293   24000 / 24713   24000 / 25478   24000 / 36957   24000 / 27147   24000 / 24293  \n",
      "Topics found in data/bags/2024-03-21_tim/bsharp/Fixed/20240321_2243_survey_bsharp2_0.fix_all.bag:\n",
      "{'/hw/depth_haz/points': 271, '/hw/depth_haz/extended/amplitude_int': 271, '/gnc/ekf': 4810, '/hw/imu': 6270, '/loc/pose': 4800, '/loc/ml/features': 72, '/graph_loc/state': 391, '/sparse_mapping/pose': 69, '/loc/of/features': 417, '/mob/flight_mode': 1, '/hw/wifi': 547, '/hw/depth_haz/extended': 271, '/mgt/img_sampler/nav_cam/image_record': 254, '/hw/cam_nav/image_color': 254, '/hw/cam_nav_bayer': 254, '/beh/inspection/status': 272, '/hw/cam_sci_info': 109, '/tf': 4797, '/hw/cam_nav_ctrl': 55, '/mgt/sys_monitor/time_sync': 108}\n",
      "\n",
      "Topics found in data/bags/2024-03-21_tim/bsharp/Fixed/20240321_2252_survey_bsharp6_0.fix_all.bag:\n",
      "{'/hw/depth_haz/points': 272, '/hw/depth_haz/extended/amplitude_int': 272, '/gnc/ekf': 4921, '/loc/pose': 4906, '/hw/imu': 6374, '/loc/of/features': 448, '/mob/flight_mode': 1, '/graph_loc/state': 422, '/hw/cam_nav_ctrl': 56, '/loc/ml/features': 67, '/hw/wifi': 550, '/sparse_mapping/pose': 66, '/mgt/img_sampler/nav_cam/image_record': 254, '/hw/cam_nav/image_color': 254, '/hw/cam_nav_bayer': 254, '/hw/depth_haz/extended': 272, '/mgt/sys_monitor/time_sync': 110, '/beh/inspection/status': 275, '/tf': 4897, '/hw/cam_sci_info': 42}\n",
      "Reading  25000 / 36957   25000 / 25478   25000 / 27147  \n",
      "Topics found in data/bags/2024-03-21_tim/bsharp/Fixed/20240321_2248_survey_bsharp3_0.fix_all.bag:\n",
      "{'/hw/depth_haz/points': 278, '/hw/depth_haz/extended/amplitude_int': 278, '/gnc/ekf': 5082, '/hw/imu': 6611, '/loc/pose': 5065, '/loc/ml/features': 73, '/loc/of/features': 447, '/mob/flight_mode': 1, '/graph_loc/state': 446, '/sparse_mapping/pose': 70, '/hw/wifi': 556, '/mgt/img_sampler/nav_cam/image_record': 248, '/hw/cam_nav/image_color': 248, '/hw/cam_nav_bayer': 248, '/hw/depth_haz/extended': 278, '/beh/inspection/status': 279, '/mgt/sys_monitor/time_sync': 111, '/tf': 5065, '/hw/cam_nav_ctrl': 56, '/hw/cam_sci_info': 38}\n",
      "Reading  26000 / 36957   26000 / 27147   27000 / 36957   27000 / 27147  \n",
      "Topics found in data/bags/2024-03-21_tim/bsharp/Fixed/20240321_2254_survey_bsharp7_0.fix_all.bag:\n",
      "{'/hw/depth_haz/points': 297, '/hw/depth_haz/extended/amplitude_int': 297, '/gnc/ekf': 5381, '/hw/imu': 6996, '/loc/pose': 5363, '/loc/of/features': 488, '/graph_loc/state': 503, '/sparse_mapping/pose': 85, '/mob/flight_mode': 1, '/hw/wifi': 606, '/mgt/img_sampler/nav_cam/image_record': 255, '/hw/cam_nav/image_color': 255, '/hw/cam_nav_bayer': 255, '/hw/cam_nav_ctrl': 61, '/hw/depth_haz/extended': 297, '/beh/inspection/status': 303, '/hw/cam_sci_info': 121, '/tf': 5379, '/loc/ml/features': 84, '/mgt/sys_monitor/time_sync': 120}\n",
      "Reading  28000 / 36957   29000 / 36957   30000 / 36957   31000 / 36957   32000 / 36957   33000 / 36957   34000 / 36957   35000 / 36957   36000 / 36957  \n",
      "Topics found in data/bags/2024-03-21_tim/bsharp/Fixed/20240321_2254_survey_bsharp7_.merged.bag:\n",
      "{'/hw/depth_haz/extended/amplitude_int': 407, '/hw/depth_haz/points': 407, '/gnc/ekf': 7316, '/hw/imu': 9522, '/loc/pose': 7298, '/loc/of/features': 667, '/graph_loc/state': 683, '/sparse_mapping/pose': 116, '/mob/flight_mode': 1, '/hw/wifi': 826, '/hw/cam_nav/image_color': 341, '/hw/cam_nav_bayer': 341, '/mgt/img_sampler/nav_cam/image_record': 341, '/hw/cam_nav_ctrl': 83, '/hw/depth_haz/extended': 407, '/beh/inspection/status': 413, '/hw/cam_sci_info': 163, '/tf': 7346, '/loc/ml/features': 115, '/mgt/sys_monitor/time_sync': 164}\n",
      "Done loading database\n"
     ]
    }
   ],
   "source": [
    "from scripts.load_bag_database import LoadBagDatabase\n",
    "path=\"data/bags/2024-03-21_tim/bsharp/Fixed\"\n",
    "topics=[]\n",
    "LoadBagDatabase(path, topics)\n",
    "print(\"Done loading database\")"
   ]
  },
  {
   "cell_type": "code",
   "execution_count": null,
   "metadata": {},
   "outputs": [],
   "source": []
  }
 ],
 "metadata": {
  "kernelspec": {
   "display_name": "Python 3 (ipykernel)",
   "language": "python",
   "name": "python3"
  },
  "language_info": {
   "codemirror_mode": {
    "name": "ipython",
    "version": 3
   },
   "file_extension": ".py",
   "mimetype": "text/x-python",
   "name": "python",
   "nbconvert_exporter": "python",
   "pygments_lexer": "ipython3",
   "version": "3.8.10"
  }
 },
 "nbformat": 4,
 "nbformat_minor": 4
}
